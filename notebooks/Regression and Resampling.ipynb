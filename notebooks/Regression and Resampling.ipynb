{
 "cells": [
  {
   "cell_type": "code",
   "execution_count": 75,
   "id": "918b7bdc",
   "metadata": {},
   "outputs": [],
   "source": [
    "import os\n",
    "import sys\n",
    "module_path = os.path.abspath(os.path.join('..'))\n",
    "if module_path not in sys.path:\n",
    "    sys.path.append(module_path)\n",
    "    \n",
    "from src.utils import create_data, create_design_matrix\n",
    "from sklearn.model_selection import train_test_split\n",
    "from src.models import ols_model, ridge_model, lasso_model_skl\n",
    "from src.utils import statistics\n",
    "from src.sampling import bootstrap, cross_validation\n",
    "import numpy as np \n"
   ]
  },
  {
   "cell_type": "markdown",
   "id": "3d0cf4d8",
   "metadata": {},
   "source": [
    "# Part a: Ordinary least square (OLS) on the Franke function"
   ]
  },
  {
   "cell_type": "code",
   "execution_count": 87,
   "id": "a143c6b2",
   "metadata": {},
   "outputs": [],
   "source": [
    "np.random.seed(2021)\n",
    "\n",
    "N = 100\n",
    "noise_var = 0.9\n",
    "num_degrees = 15\n",
    "\n",
    "mse_test = []\n",
    "r2_test = []\n",
    "mse_train = []\n",
    "r2_train = []\n",
    "\n",
    "x1, y1, x, y, z = create_data(N, noise_var)\n",
    "z = z[:, np.newaxis]\n",
    "\n",
    "for deg in range(1, num_degrees):\n",
    "    X = create_design_matrix(x.flatten(), y.flatten(), deg)\n",
    "    X_train, X_test, z_train, z_test = train_test_split(X, z, test_size=0.10, random_state=0)\n",
    "    train_data = (X_train, z_train)\n",
    "    test_data = (X_test, z_test)\n",
    "    z_predict, _ = ols_model(train_data, X_test)\n",
    "    z_predict_train, _ = ols_model(train_data, X_train)\n",
    "    \n",
    "    # train error and r2 \n",
    "    stats = statistics(z_train,z_predict_train)\n",
    "    mse_train +=[stats['MSE']]\n",
    "    r2_train += [stats['R2']]\n",
    "    \n",
    "    # test error and r2 \n",
    "    stats = statistics(z_test, z_predict)\n",
    "    mse_test +=[stats['MSE']]\n",
    "    r2_test += [stats['R2']]\n",
    "    \n",
    "    #print(stats)"
   ]
  },
  {
   "cell_type": "code",
   "execution_count": 88,
   "id": "27337293",
   "metadata": {},
   "outputs": [
    {
     "data": {
      "image/png": "[encoded data removed]",
      "text/plain": [
       "<Figure size 432x288 with 1 Axes>"
      ]
     },
     "metadata": {
      "needs_background": "light"
     },
     "output_type": "display_data"
    }
   ],
   "source": [
    "import matplotlib.pyplot as plt\n",
    "plt.plot(range(1,num_degrees),mse_test,label=\"Test\")\n",
    "plt.plot(range(1,num_degrees),mse_train,label=\"Train\")\n",
    "plt.xlabel('degree of polynomial')\n",
    "plt.ylabel('MSE')\n",
    "plt.legend()\n",
    "plt.show()"
   ]
  },
  {
   "cell_type": "code",
   "execution_count": 89,
   "id": "93fc66bc",
   "metadata": {},
   "outputs": [
    {
     "data": {
      "text/plain": [
       "[<matplotlib.lines.Line2D at 0x7fa3a8930b90>]"
      ]
     },
     "execution_count": 89,
     "metadata": {},
     "output_type": "execute_result"
    },
    {
     "data": {
      "image/png": "[encoded data removed]",
      "text/plain": [
       "<Figure size 432x288 with 1 Axes>"
      ]
     },
     "metadata": {
      "needs_background": "light"
     },
     "output_type": "display_data"
    }
   ],
   "source": [
    "plt.plot(range(1,num_degrees), r2_test)\n",
    "plt.plot(range(1,num_degrees), r2_train)"
   ]
  },
  {
   "cell_type": "markdown",
   "id": "e05d8547",
   "metadata": {},
   "source": [
    "# Part b: Bias-variance trade-off and resampling techniques"
   ]
  },
  {
   "cell_type": "code",
   "execution_count": 98,
   "id": "d36f6661",
   "metadata": {},
   "outputs": [
    {
     "name": "stdout",
     "output_type": "stream",
     "text": [
      "{'MSE': 0.0019514186835982617, 'R2': 0.7486072742444734, 'EBV': (0.0019514186835982617, 0.0, 0.0019514186835982619)}\n"
     ]
    },
    {
     "data": {
      "text/html": [
       "<div>\n",
       "<style scoped>\n",
       "    .dataframe tbody tr th:only-of-type {\n",
       "        vertical-align: middle;\n",
       "    }\n",
       "\n",
       "    .dataframe tbody tr th {\n",
       "        vertical-align: top;\n",
       "    }\n",
       "\n",
       "    .dataframe thead th {\n",
       "        text-align: right;\n",
       "    }\n",
       "</style>\n",
       "<table border=\"1\" class=\"dataframe\">\n",
       "  <thead>\n",
       "    <tr style=\"text-align: right;\">\n",
       "      <th></th>\n",
       "      <th>0</th>\n",
       "      <th>1</th>\n",
       "      <th>2</th>\n",
       "      <th>3</th>\n",
       "      <th>4</th>\n",
       "      <th>5</th>\n",
       "      <th>6</th>\n",
       "      <th>7</th>\n",
       "      <th>8</th>\n",
       "      <th>9</th>\n",
       "    </tr>\n",
       "  </thead>\n",
       "  <tbody>\n",
       "    <tr>\n",
       "      <th>0</th>\n",
       "      <td>0.050238</td>\n",
       "      <td>0.049305</td>\n",
       "      <td>0.052255</td>\n",
       "      <td>0.051189</td>\n",
       "      <td>0.048448</td>\n",
       "      <td>0.050563</td>\n",
       "      <td>0.049166</td>\n",
       "      <td>0.048874</td>\n",
       "      <td>0.048455</td>\n",
       "      <td>0.051457</td>\n",
       "    </tr>\n",
       "    <tr>\n",
       "      <th>1</th>\n",
       "      <td>0.071017</td>\n",
       "      <td>0.061492</td>\n",
       "      <td>0.066986</td>\n",
       "      <td>0.055013</td>\n",
       "      <td>0.062880</td>\n",
       "      <td>0.058561</td>\n",
       "      <td>0.059889</td>\n",
       "      <td>0.070012</td>\n",
       "      <td>0.075667</td>\n",
       "      <td>0.063346</td>\n",
       "    </tr>\n",
       "    <tr>\n",
       "      <th>2</th>\n",
       "      <td>0.205703</td>\n",
       "      <td>0.198988</td>\n",
       "      <td>0.203616</td>\n",
       "      <td>0.193982</td>\n",
       "      <td>0.200045</td>\n",
       "      <td>0.203038</td>\n",
       "      <td>0.199845</td>\n",
       "      <td>0.204239</td>\n",
       "      <td>0.207444</td>\n",
       "      <td>0.197213</td>\n",
       "    </tr>\n",
       "    <tr>\n",
       "      <th>3</th>\n",
       "      <td>0.397924</td>\n",
       "      <td>0.392234</td>\n",
       "      <td>0.397695</td>\n",
       "      <td>0.392737</td>\n",
       "      <td>0.391964</td>\n",
       "      <td>0.397273</td>\n",
       "      <td>0.392068</td>\n",
       "      <td>0.394579</td>\n",
       "      <td>0.393393</td>\n",
       "      <td>0.398052</td>\n",
       "    </tr>\n",
       "    <tr>\n",
       "      <th>4</th>\n",
       "      <td>0.720965</td>\n",
       "      <td>0.721010</td>\n",
       "      <td>0.720114</td>\n",
       "      <td>0.723427</td>\n",
       "      <td>0.726335</td>\n",
       "      <td>0.721408</td>\n",
       "      <td>0.720661</td>\n",
       "      <td>0.724803</td>\n",
       "      <td>0.725880</td>\n",
       "      <td>0.724213</td>\n",
       "    </tr>\n",
       "  </tbody>\n",
       "</table>\n",
       "</div>"
      ],
      "text/plain": [
       "          0         1         2         3         4         5         6  \\\n",
       "0  0.050238  0.049305  0.052255  0.051189  0.048448  0.050563  0.049166   \n",
       "1  0.071017  0.061492  0.066986  0.055013  0.062880  0.058561  0.059889   \n",
       "2  0.205703  0.198988  0.203616  0.193982  0.200045  0.203038  0.199845   \n",
       "3  0.397924  0.392234  0.397695  0.392737  0.391964  0.397273  0.392068   \n",
       "4  0.720965  0.721010  0.720114  0.723427  0.726335  0.721408  0.720661   \n",
       "\n",
       "          7         8         9  \n",
       "0  0.048874  0.048455  0.051457  \n",
       "1  0.070012  0.075667  0.063346  \n",
       "2  0.204239  0.207444  0.197213  \n",
       "3  0.394579  0.393393  0.398052  \n",
       "4  0.724803  0.725880  0.724213  "
      ]
     },
     "execution_count": 98,
     "metadata": {},
     "output_type": "execute_result"
    }
   ],
   "source": [
    "import pandas as pd\n",
    "\n",
    "def ols_regression(N, noise_var, deg, n_bootstrap=5,use_test=True):\n",
    "    x1, y1, x, y, z = create_data(N, noise_var)\n",
    "    z = z[:, np.newaxis]\n",
    "    X = create_design_matrix(x.flatten(), y.flatten(), deg)\n",
    "    X_train, X_test, z_train, z_test = train_test_split(X, z, test_size=0.10, random_state=0)\n",
    "    train_data = (X_train, z_train)\n",
    "    test_data = (X_test, z_test)\n",
    "\n",
    "    # OLS + bootstrap sampling\n",
    "    zpred_boots_ols = bootstrap(n_bootstrap, train_data, X_test, ols_model)\n",
    "\n",
    "    # get statistics of the sampling\n",
    "    stats = statistics(z_test, zpred_boots_ols, sampling=True)\n",
    "    #print(stats)\n",
    "\n",
    "    # display prediction \n",
    "    df = pd.DataFrame(zpred_boots_ols)\n",
    "    return df, stats\n",
    "\n",
    "# test OLS regression with bootstrap sampling technique\n",
    "noise_var = 0.0\n",
    "N = 100\n",
    "num_degrees = 5\n",
    "n_bootstrap = 10\n",
    "\n",
    "df, stats = ols_regression(N, noise_var, num_degrees, n_bootstrap)\n",
    "print(stats)\n",
    "df.head()"
   ]
  },
  {
   "cell_type": "code",
   "execution_count": 96,
   "id": "8e758c10",
   "metadata": {},
   "outputs": [],
   "source": [
    "# determine MSE with varying model complexity\n",
    "num_degrees = 20\n",
    "\n",
    "mse_bootstrap = []\n",
    "for deg in range(1,num_degrees+1):\n",
    "    _, stats = ols_regression(N=100,noise_var=0.5,deg=deg,n_bootstrap=10)\n",
    "    mse_bootstrap += [stats['MSE']]"
   ]
  },
  {
   "cell_type": "code",
   "execution_count": 100,
   "id": "e67b2862",
   "metadata": {},
   "outputs": [
    {
     "data": {
      "text/plain": [
       "<matplotlib.legend.Legend at 0x7fa3a8cc9890>"
      ]
     },
     "execution_count": 100,
     "metadata": {},
     "output_type": "execute_result"
    },
    {
     "data": {
      "image/png": "[encoded data removed]",
      "text/plain": [
       "<Figure size 432x288 with 1 Axes>"
      ]
     },
     "metadata": {
      "needs_background": "light"
     },
     "output_type": "display_data"
    }
   ],
   "source": [
    "plt.plot(mse_bootstrap,'--',label=\"Test\")\n",
    "plt.plot(mse_bootstrap,'o')\n",
    "plt.title(f\"Degrees={num_degrees}, Noise={noise_var}, # of Points={N}, Bootstrap num={n_bootstrap}\")\n",
    "plt.ylabel('MSE')\n",
    "plt.xlabel('degree of polynomial')\n",
    "plt.legend()"
   ]
  },
  {
   "cell_type": "code",
   "execution_count": 82,
   "id": "e04c7b7b",
   "metadata": {},
   "outputs": [
    {
     "data": {
      "application/vnd.jupyter.widget-view+json": {
       "model_id": "ff25760cb7ec455f8c2ee5442600551b",
       "version_major": 2,
       "version_minor": 0
      },
      "text/plain": [
       "interactive(children=(FloatSlider(value=0.0, description='noise', max=1.0), Output()), _dom_classes=('widget-i…"
      ]
     },
     "metadata": {},
     "output_type": "display_data"
    }
   ],
   "source": [
    "from ipywidgets import interact\n",
    "\n",
    "def f(noise):\n",
    "    num_degrees = 20\n",
    "\n",
    "    mse_bootstrap = []\n",
    "    for deg in range(1,num_degrees+1):\n",
    "        _, stats = ols_regression(N=250,noise_var=noise,deg=deg,n_bootstrap=10)\n",
    "        mse_bootstrap += [stats['MSE']]\n",
    "    plt.plot(mse_bootstrap,'--',label=\"Noise=\"+str(noise))\n",
    "    plt.plot(mse_bootstrap,'o')\n",
    "    plt.ylabel('MSE')\n",
    "    plt.xlabel('degree of polynomial')\n",
    "    plt.legend()\n",
    "    \n",
    "interact(f,noise=(0,1,0.1));"
   ]
  },
  {
   "cell_type": "markdown",
   "id": "61ded629",
   "metadata": {},
   "source": [
    "# Part c: Cross-validation as resampling techniques, adding more complexity"
   ]
  },
  {
   "cell_type": "code",
   "execution_count": 101,
   "id": "459dae37",
   "metadata": {},
   "outputs": [
    {
     "name": "stdout",
     "output_type": "stream",
     "text": [
      "MSE    0.020633\n",
      "R2     0.325424\n",
      "dtype: float64\n",
      "        MSE        R2\n",
      "0  0.061073  0.360926\n",
      "1  0.012548  0.890711\n",
      "2  0.015938  0.819737\n",
      "3  0.015180  0.701967\n",
      "4  0.013036  0.462980\n",
      "5  0.011994  0.363244\n",
      "6  0.012712  0.317115\n",
      "7  0.011983  0.423147\n",
      "8  0.010891  0.407565\n",
      "9  0.040977 -1.493154\n"
     ]
    }
   ],
   "source": [
    "np.random.seed(2021)\n",
    "\n",
    "deg = 5\n",
    "N = 100\n",
    "noise_var = 0.1\n",
    "num_degrees = 10\n",
    "\n",
    "x1, y1, x, y, z = create_data(N, noise_var)\n",
    "z = z[:, np.newaxis]\n",
    "X = create_design_matrix(x.flatten(), y.flatten(), deg)\n",
    "X_train, X_test, z_train, z_test = train_test_split(X, z, test_size=0.20, random_state=0)\n",
    "train_data = (X_train, z_train)\n",
    "test_data = (X_test, z_test)\n",
    "\n",
    "# --------- PART (c) code starts here --------------------\n",
    "kfold = 10\n",
    "stat_record = cross_validation(kfold, X, z, ols_model, lmb=1)\n",
    "print(stat_record.mean(axis=0))\n",
    "\n",
    "print(stat_record)"
   ]
  },
  {
   "cell_type": "code",
   "execution_count": 107,
   "id": "04b5db6e",
   "metadata": {},
   "outputs": [],
   "source": [
    "np.random.seed(2021)\n",
    "\n",
    "deg = 10\n",
    "N = 100\n",
    "noise_var = 0.1\n",
    "num_degrees = 5\n",
    "\n",
    "nlambdas = 20\n",
    "lambdas = np.logspace(-3, 2, nlambdas)\n",
    "\n",
    "mse_cv = []\n",
    "for lmb in lambdas:\n",
    "    x1, y1, x, y, z = create_data(N, noise_var)\n",
    "    z = z[:, np.newaxis]\n",
    "    X = create_design_matrix(x.flatten(), y.flatten(), num_degrees)\n",
    "    X_train, X_test, z_train, z_test = train_test_split(X, z, test_size=0.20, random_state=0)\n",
    "    train_data = (X_train, z_train)\n",
    "    test_data = (X_test, z_test)\n",
    "\n",
    "    # --------- PART (c) code starts here --------------------\n",
    "    kfold = 10\n",
    "    stat_record = cross_validation(kfold, X, z, ols_model, lmb)\n",
    "    mse_cv += [stat_record.mean(axis=0)[0]]"
   ]
  },
  {
   "cell_type": "code",
   "execution_count": 108,
   "id": "2d3b4cb2",
   "metadata": {},
   "outputs": [
    {
     "data": {
      "text/plain": [
       "Text(0.5, 0, '$log_{10}(\\\\lambda$)')"
      ]
     },
     "execution_count": 108,
     "metadata": {},
     "output_type": "execute_result"
    },
    {
     "data": {
      "image/png": "[encoded data removed]",
      "text/plain": [
       "<Figure size 432x288 with 1 Axes>"
      ]
     },
     "metadata": {
      "needs_background": "light"
     },
     "output_type": "display_data"
    }
   ],
   "source": [
    "plt.plot(np.log10(lambdas),mse_cv,'--')\n",
    "plt.plot(np.log10(lambdas),mse_cv,'o')\n",
    "plt.title(f\"Degrees={num_degrees}, Noise={noise_var}, # of Points={N}, kfold={kfold}\")\n",
    "plt.ylabel('MSE')\n",
    "plt.xlabel('$log_{10}(\\lambda$)')"
   ]
  },
  {
   "cell_type": "markdown",
   "id": "b2f8294e",
   "metadata": {},
   "source": [
    "# Part d: Ridge regression on the Franke function with resampling"
   ]
  },
  {
   "cell_type": "code",
   "execution_count": 138,
   "id": "da9718b1",
   "metadata": {},
   "outputs": [
    {
     "name": "stdout",
     "output_type": "stream",
     "text": [
      "{'MSE': 0.7933865331778989, 'R2': 0.09323200275822252, 'EBV': (0.7933865331778989, 0.0, 0.7933865331778989)}\n"
     ]
    },
    {
     "data": {
      "text/plain": [
       "[<matplotlib.lines.Line2D at 0x7fa3a864e410>]"
      ]
     },
     "execution_count": 138,
     "metadata": {},
     "output_type": "execute_result"
    },
    {
     "data": {
      "image/png": "[encoded data removed]",
      "text/plain": [
       "<Figure size 432x288 with 1 Axes>"
      ]
     },
     "metadata": {
      "needs_background": "light"
     },
     "output_type": "display_data"
    }
   ],
   "source": [
    "np.random.seed(2021)\n",
    "\n",
    "deg = 5\n",
    "N = 100\n",
    "noise_var = 0.9\n",
    "num_degrees = 10\n",
    "\n",
    "x1, y1, x, y, z = create_data(N, noise_var)\n",
    "z = z[:, np.newaxis]\n",
    "X = create_design_matrix(x.flatten(), y.flatten(), deg)\n",
    "X_train, X_test, z_train, z_test = train_test_split(X, z, test_size=0.20)\n",
    "train_data = (X_train, z_train)\n",
    "test_data = (X_test, z_test)\n",
    "\n",
    "# Ridge regression\n",
    "zpred_ridge, beta_ridge = ridge_model(train_data, X_test, lmb=0)\n",
    "stats = statistics(z_test, zpred_ridge, sampling=True)\n",
    "print(stats)\n",
    "\n",
    "\n",
    "# Vary lambda values \n",
    "nlambdas = 50\n",
    "lambdas = np.logspace(-3, 2, nlambdas)\n",
    "\n",
    "mse_ridge = []\n",
    "r2_ridge = []\n",
    "for lmb in lambdas:\n",
    "    zpred_ridge, beta_ridge = ridge_model(train_data, X_test, lmb)\n",
    "    stats = statistics(z_test, zpred_ridge, sampling=True)\n",
    "    mse_ridge +=[stats['MSE']]\n",
    "    r2_ridge += [stats['R2']]\n",
    "    \n",
    "    #print(stats)\n",
    "    \n",
    "plt.plot(np.log10(lambdas),mse_ridge)\n"
   ]
  },
  {
   "cell_type": "code",
   "execution_count": 136,
   "id": "ff77cb03",
   "metadata": {},
   "outputs": [
    {
     "data": {
      "text/plain": [
       "[<matplotlib.lines.Line2D at 0x7fa3a809d650>]"
      ]
     },
     "execution_count": 136,
     "metadata": {},
     "output_type": "execute_result"
    },
    {
     "data": {
      "image/png": "[encoded data removed]",
      "text/plain": [
       "<Figure size 432x288 with 1 Axes>"
      ]
     },
     "metadata": {
      "needs_background": "light"
     },
     "output_type": "display_data"
    }
   ],
   "source": [
    "plt.plot(np.log10(lambdas),r2_ridge)"
   ]
  },
  {
   "cell_type": "markdown",
   "id": "dbcb9093",
   "metadata": {},
   "source": [
    "## ridge + bootstrap"
   ]
  },
  {
   "cell_type": "code",
   "execution_count": 116,
   "id": "34938553",
   "metadata": {},
   "outputs": [
    {
     "name": "stdout",
     "output_type": "stream",
     "text": [
      "{'MSE': 0.011957422101714585, 'R2': 0.324965259664204, 'EBV': (0.011957422101714585, 0.0, 0.011957422101714587)}\n",
      "          0         1         2         3         4\n",
      "0  0.047239  0.054539  0.043825  0.039309  0.049792\n",
      "1  0.018307  0.016749  0.037826  0.044971  0.043699\n",
      "2  0.190430  0.190767  0.203026  0.208654  0.218504\n",
      "3  0.392352  0.381386  0.393374  0.383228  0.386301\n",
      "4  0.716509  0.718217  0.725107  0.723320  0.722002\n"
     ]
    }
   ],
   "source": [
    "n_bootstrap = 5\n",
    "zpred_boots_ridge = bootstrap(n_bootstrap, train_data, X_test, ridge_model)\n",
    "stats = statistics(z_test, zpred_boots_ridge, sampling=True)\n",
    "print(stats)\n",
    "df = pd.DataFrame(zpred_boots_ridge)\n",
    "print(df.head())"
   ]
  },
  {
   "cell_type": "markdown",
   "id": "ab477de4",
   "metadata": {},
   "source": [
    "## ridge + cross-validation"
   ]
  },
  {
   "cell_type": "code",
   "execution_count": 120,
   "id": "177cafc1",
   "metadata": {},
   "outputs": [
    {
     "name": "stdout",
     "output_type": "stream",
     "text": [
      "MSE=0.03748942197398736, R2=0.11433091538234741\n"
     ]
    },
    {
     "data": {
      "text/html": [
       "<div>\n",
       "<style scoped>\n",
       "    .dataframe tbody tr th:only-of-type {\n",
       "        vertical-align: middle;\n",
       "    }\n",
       "\n",
       "    .dataframe tbody tr th {\n",
       "        vertical-align: top;\n",
       "    }\n",
       "\n",
       "    .dataframe thead th {\n",
       "        text-align: right;\n",
       "    }\n",
       "</style>\n",
       "<table border=\"1\" class=\"dataframe\">\n",
       "  <thead>\n",
       "    <tr style=\"text-align: right;\">\n",
       "      <th></th>\n",
       "      <th>MSE</th>\n",
       "      <th>R2</th>\n",
       "    </tr>\n",
       "  </thead>\n",
       "  <tbody>\n",
       "    <tr>\n",
       "      <th>0</th>\n",
       "      <td>0.092124</td>\n",
       "      <td>0.144163</td>\n",
       "    </tr>\n",
       "    <tr>\n",
       "      <th>1</th>\n",
       "      <td>0.049873</td>\n",
       "      <td>0.435408</td>\n",
       "    </tr>\n",
       "    <tr>\n",
       "      <th>2</th>\n",
       "      <td>0.023296</td>\n",
       "      <td>0.332413</td>\n",
       "    </tr>\n",
       "    <tr>\n",
       "      <th>3</th>\n",
       "      <td>0.020420</td>\n",
       "      <td>-0.020469</td>\n",
       "    </tr>\n",
       "    <tr>\n",
       "      <th>4</th>\n",
       "      <td>0.013281</td>\n",
       "      <td>0.341279</td>\n",
       "    </tr>\n",
       "    <tr>\n",
       "      <th>5</th>\n",
       "      <td>0.025942</td>\n",
       "      <td>-0.546809</td>\n",
       "    </tr>\n",
       "  </tbody>\n",
       "</table>\n",
       "</div>"
      ],
      "text/plain": [
       "        MSE        R2\n",
       "0  0.092124  0.144163\n",
       "1  0.049873  0.435408\n",
       "2  0.023296  0.332413\n",
       "3  0.020420 -0.020469\n",
       "4  0.013281  0.341279\n",
       "5  0.025942 -0.546809"
      ]
     },
     "execution_count": 120,
     "metadata": {},
     "output_type": "execute_result"
    }
   ],
   "source": [
    "# Ridge regression + cross-validation sampling\n",
    "kfold = 6\n",
    "stat_record = cross_validation(kfold, X, z, ridge_model, lmb=5)\n",
    "mse_ = np.mean(stat_record)[0]\n",
    "r2_ =  np.mean(stat_record)[1]\n",
    "print(f'MSE={mse_}, R2={r2_}')\n",
    "\n",
    "stat_record"
   ]
  },
  {
   "cell_type": "markdown",
   "id": "e2687b55",
   "metadata": {},
   "source": [
    "# Part e: Lasso Regression on the Franke function with resampling"
   ]
  },
  {
   "cell_type": "markdown",
   "id": "b272e768",
   "metadata": {},
   "source": [
    "## w/o sampling"
   ]
  },
  {
   "cell_type": "code",
   "execution_count": 156,
   "id": "c9383438",
   "metadata": {},
   "outputs": [
    {
     "name": "stdout",
     "output_type": "stream",
     "text": [
      "{'MSE': 310.54704791809206, 'R2': -3296.405640251625}\n",
      "{'MSE': 310.54704791809206, 'R2': -3296.405640251625}\n",
      "{'MSE': 310.54704791809206, 'R2': -3296.405640251625}\n",
      "{'MSE': 310.54704791809206, 'R2': -3296.405640251625}\n",
      "{'MSE': 310.54704791809206, 'R2': -3296.405640251625}\n",
      "{'MSE': 310.54704791809206, 'R2': -3296.405640251625}\n",
      "{'MSE': 310.54704791809206, 'R2': -3296.405640251625}\n",
      "{'MSE': 310.54704791809206, 'R2': -3296.405640251625}\n",
      "{'MSE': 310.54704791809206, 'R2': -3296.405640251625}\n",
      "{'MSE': 310.54704791809206, 'R2': -3296.405640251625}\n"
     ]
    }
   ],
   "source": [
    "# Vary lambda values \n",
    "np.random.seed(2021)\n",
    "\n",
    "N = 100 \n",
    "noise_var = 0.1 \n",
    "deg = 5\n",
    "\n",
    "x1, y1, x, y, z = create_data(N, noise_var)\n",
    "z = z[:, np.newaxis]\n",
    "X = create_design_matrix(x.flatten(), y.flatten(), deg)\n",
    "X_train, X_test, z_train, z_test = train_test_split(X, z, test_size=0.20)\n",
    "train_data = (X_train, z_train)\n",
    "test_data = (X_test, z_test)\n",
    "\n",
    "\n",
    "nlambdas = 10\n",
    "lambdas = np.logspace(-3, 3, nlambdas)\n",
    "\n",
    "mse_lasso = []\n",
    "\n",
    "for lmb in lambdas: \n",
    "    zpredict_lasso,_ = lasso_model_skl(train_data, X_test, lmb=0.001)\n",
    "    stats = statistics(z_test,zpredict_lasso)\n",
    "    print(stats)"
   ]
  },
  {
   "cell_type": "code",
   "execution_count": 158,
   "id": "b82de63d",
   "metadata": {},
   "outputs": [
    {
     "name": "stdout",
     "output_type": "stream",
     "text": [
      "{'MSE': 0.02496856578452987, 'R2': -0.3255880260149464, 'EBV': (0.02496856578452987, 0.0, 0.024968565784529866)}\n",
      "          0         1         2         3         4\n",
      "0  0.497122  0.491865  0.491883  0.499545  0.493271\n",
      "1  0.319230  0.312932  0.314587  0.320460  0.314032\n",
      "2  0.063496  0.048471  0.065269  0.052961  0.055405\n",
      "3  0.177962  0.184549  0.175961  0.185215  0.178918\n",
      "4  0.777179  0.765006  0.778957  0.785085  0.774081\n"
     ]
    }
   ],
   "source": [
    "# Lasso regression + bootstrap sampling\n",
    "zpred_boots_lasso = bootstrap(n_bootstrap, train_data, X_test, lasso_model_skl, lmb=0.001)\n",
    "stats = statistics(z_test, zpred_boots_lasso, sampling=True)\n",
    "print(stats)\n",
    "df = pd.DataFrame(zpred_boots_lasso)\n",
    "print(df.head())"
   ]
  },
  {
   "cell_type": "code",
   "execution_count": 160,
   "id": "6dea6e69",
   "metadata": {},
   "outputs": [
    {
     "name": "stdout",
     "output_type": "stream",
     "text": [
      "MSE=163.79130280673567, R2=-4166.384803155521\n"
     ]
    },
    {
     "data": {
      "text/html": [
       "<div>\n",
       "<style scoped>\n",
       "    .dataframe tbody tr th:only-of-type {\n",
       "        vertical-align: middle;\n",
       "    }\n",
       "\n",
       "    .dataframe tbody tr th {\n",
       "        vertical-align: top;\n",
       "    }\n",
       "\n",
       "    .dataframe thead th {\n",
       "        text-align: right;\n",
       "    }\n",
       "</style>\n",
       "<table border=\"1\" class=\"dataframe\">\n",
       "  <thead>\n",
       "    <tr style=\"text-align: right;\">\n",
       "      <th></th>\n",
       "      <th>MSE</th>\n",
       "      <th>R2</th>\n",
       "    </tr>\n",
       "  </thead>\n",
       "  <tbody>\n",
       "    <tr>\n",
       "      <th>0</th>\n",
       "      <td>333.215530</td>\n",
       "      <td>-3094.598043</td>\n",
       "    </tr>\n",
       "    <tr>\n",
       "      <th>1</th>\n",
       "      <td>245.284882</td>\n",
       "      <td>-2775.752330</td>\n",
       "    </tr>\n",
       "    <tr>\n",
       "      <th>2</th>\n",
       "      <td>116.470314</td>\n",
       "      <td>-3336.621588</td>\n",
       "    </tr>\n",
       "    <tr>\n",
       "      <th>3</th>\n",
       "      <td>77.574454</td>\n",
       "      <td>-3875.763026</td>\n",
       "    </tr>\n",
       "    <tr>\n",
       "      <th>4</th>\n",
       "      <td>61.411922</td>\n",
       "      <td>-3044.854577</td>\n",
       "    </tr>\n",
       "    <tr>\n",
       "      <th>5</th>\n",
       "      <td>148.790715</td>\n",
       "      <td>-8870.719255</td>\n",
       "    </tr>\n",
       "  </tbody>\n",
       "</table>\n",
       "</div>"
      ],
      "text/plain": [
       "          MSE           R2\n",
       "0  333.215530 -3094.598043\n",
       "1  245.284882 -2775.752330\n",
       "2  116.470314 -3336.621588\n",
       "3   77.574454 -3875.763026\n",
       "4   61.411922 -3044.854577\n",
       "5  148.790715 -8870.719255"
      ]
     },
     "execution_count": 160,
     "metadata": {},
     "output_type": "execute_result"
    }
   ],
   "source": [
    "# Lasso regression + cross-validation sampling\n",
    "kfold = 6\n",
    "stat_record = cross_validation(kfold, X, z, lasso_model_skl, lmb=0.001)\n",
    "mse_ = np.mean(stat_record)[0]\n",
    "r2_ =  np.mean(stat_record)[1]\n",
    "print(f'MSE={mse_}, R2={r2_}')\n",
    "\n",
    "stat_record"
   ]
  },
  {
   "cell_type": "code",
   "execution_count": null,
   "id": "4de0e7d4",
   "metadata": {},
   "outputs": [],
   "source": []
  }
 ],
 "metadata": {
  "kernelspec": {
   "display_name": "Python 3 (ipykernel)",
   "language": "python",
   "name": "python3"
  },
  "language_info": {
   "codemirror_mode": {
    "name": "ipython",
    "version": 3
   },
   "file_extension": ".py",
   "mimetype": "text/x-python",
   "name": "python",
   "nbconvert_exporter": "python",
   "pygments_lexer": "ipython3",
   "version": "3.7.12"
  },
  "toc": {
   "base_numbering": 1,
   "nav_menu": {},
   "number_sections": true,
   "sideBar": true,
   "skip_h1_title": false,
   "title_cell": "Table of Contents",
   "title_sidebar": "Contents",
   "toc_cell": false,
   "toc_position": {},
   "toc_section_display": true,
   "toc_window_display": false
  }
 },
 "nbformat": 4,
 "nbformat_minor": 5
}
